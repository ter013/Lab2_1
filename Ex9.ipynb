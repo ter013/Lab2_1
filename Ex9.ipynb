{
 "cells": [
  {
   "cell_type": "code",
   "execution_count": 1,
   "metadata": {},
   "outputs": [],
   "source": [
    "import numpy as np\n",
    "import turtle\n",
    "\n",
    "turtle.shape('turtle')\n",
    "turtle.speed(0)\n",
    "\n",
    "def Nug(a,R):\n",
    "    turtle.left(90 + 180/a)\n",
    "    for i in range(0,a,1):\n",
    "        turtle.forward(2*R*np.sin(1/a*np.pi))\n",
    "        turtle.left(360/a)\n",
    "    turtle.right(90+180/a)\n",
    "    \n",
    "for t in range(3,13,1):\n",
    "    Nug(t,10*(t - 2))\n",
    "    turtle.penup()\n",
    "    turtle.goto(10*(t-2),0)\n",
    "    turtle.pendown()"
   ]
  },
  {
   "cell_type": "code",
   "execution_count": null,
   "metadata": {},
   "outputs": [],
   "source": []
  }
 ],
 "metadata": {
  "kernelspec": {
   "display_name": "Python 3",
   "language": "python",
   "name": "python3"
  },
  "language_info": {
   "codemirror_mode": {
    "name": "ipython",
    "version": 3
   },
   "file_extension": ".py",
   "mimetype": "text/x-python",
   "name": "python",
   "nbconvert_exporter": "python",
   "pygments_lexer": "ipython3",
   "version": "3.8.3"
  }
 },
 "nbformat": 4,
 "nbformat_minor": 4
}
