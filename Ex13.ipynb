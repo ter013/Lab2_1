{
 "cells": [
  {
   "cell_type": "code",
   "execution_count": 1,
   "metadata": {},
   "outputs": [],
   "source": [
    "import numpy as np\n",
    "import turtle\n",
    "\n",
    "turtle.shape('turtle')\n",
    "turtle.speed(0)\n",
    "\n",
    "def Okr(R1):\n",
    "    for i in range(0,360,1):\n",
    "        turtle.forward(2*R1*np.sin(1/360*np.pi))\n",
    "        turtle.left(1)\n",
    "        \n",
    "def Dug(R2):\n",
    "    for i in range(0,180,1):\n",
    "        turtle.forward(2*R2*np.sin(1/360*np.pi))\n",
    "        turtle.right(1)\n",
    "        \n",
    "turtle.left(90)\n",
    "\n",
    "turtle.penup()\n",
    "turtle.goto(60,0)\n",
    "turtle.pendown()\n",
    "\n",
    "turtle.begin_fill()\n",
    "turtle.color(\"yellow\")\n",
    "Okr(60)\n",
    "turtle.end_fill()\n",
    "\n",
    "turtle.penup()\n",
    "turtle.goto(-10,15)\n",
    "turtle.down()\n",
    "\n",
    "turtle.begin_fill()\n",
    "turtle.color(\"blue\")\n",
    "Okr(5)\n",
    "turtle.end_fill()\n",
    "\n",
    "turtle.penup()\n",
    "turtle.goto(15,15)\n",
    "turtle.pendown()\n",
    "\n",
    "turtle.begin_fill()\n",
    "turtle.color(\"blue\")\n",
    "Okr(5)\n",
    "turtle.end_fill()\n",
    "\n",
    "turtle.penup()\n",
    "turtle.goto(0,15)\n",
    "turtle.pendown()\n",
    "turtle.width(4)\n",
    "turtle.color(\"black\")\n",
    "turtle.goto(0,-4)\n",
    "\n",
    "turtle.left(180)\n",
    "turtle.penup()\n",
    "turtle.goto(20,-5)\n",
    "turtle.pendown()\n",
    "turtle.color(\"red\")\n",
    "Dug(20)"
   ]
  },
  {
   "cell_type": "code",
   "execution_count": null,
   "metadata": {},
   "outputs": [],
   "source": []
  }
 ],
 "metadata": {
  "kernelspec": {
   "display_name": "Python 3",
   "language": "python",
   "name": "python3"
  },
  "language_info": {
   "codemirror_mode": {
    "name": "ipython",
    "version": 3
   },
   "file_extension": ".py",
   "mimetype": "text/x-python",
   "name": "python",
   "nbconvert_exporter": "python",
   "pygments_lexer": "ipython3",
   "version": "3.8.3"
  }
 },
 "nbformat": 4,
 "nbformat_minor": 4
}
